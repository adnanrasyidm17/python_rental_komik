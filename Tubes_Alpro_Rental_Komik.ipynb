{
  "cells": [
    {
      "cell_type": "markdown",
      "metadata": {
        "id": "view-in-github",
        "colab_type": "text"
      },
      "source": [
        "<a href=\"https://colab.research.google.com/github/adnanrasyidm17/python_rental_komik/blob/main/Tubes_Alpro_Rental_Komik.ipynb\" target=\"_parent\"><img src=\"https://colab.research.google.com/assets/colab-badge.svg\" alt=\"Open In Colab\"/></a>"
      ]
    },
    {
      "cell_type": "markdown",
      "metadata": {
        "id": "QJTodWHB9Oxp"
      },
      "source": [
        "# Koleksi Data"
      ]
    },
    {
      "cell_type": "markdown",
      "metadata": {
        "id": "zpcTE9C7-BVa"
      },
      "source": [
        "## Daftar Komik"
      ]
    },
    {
      "cell_type": "code",
      "execution_count": null,
      "metadata": {
        "id": "SWxnksHgir3L"
      },
      "outputs": [],
      "source": [
        "komik = [{\n",
        "    'nama'    : 'Naruto Shippūden: Fourth Shinobi World War',\n",
        "    'kode'    : 'RK-01-NSH',\n",
        "    'volume'  : '72',\n",
        "    'judul'   : 'Naruto Uzumaki!!',\n",
        "    'chapter' : ('691', '692', '693', '694', '695',\n",
        "                 '696', '697', '698', '699', '700'),\n",
        "    'tahun'   : 2015,\n",
        "    'harga'   : 3000,\n",
        "    'stok'    : 5\n",
        "}, {\n",
        "    'nama'    : 'One Piece: Wano Country',\n",
        "    'kode'    : 'RK-02-OPI',\n",
        "    'volume'  : '91',\n",
        "    'judul'   : 'Warrior of Liberation',\n",
        "    'chapter' : ('1036', '1037', '1038', '1039', '1040', '1041',\n",
        "                 '1042', '1043', '1044', '1046', '1046'),\n",
        "    'tahun'   : 2018,\n",
        "    'harga'   : 5000,\n",
        "    'stok'    : 3\n",
        "}, {\n",
        "    'nama'    : 'Bleach: Thousand-Year Blood War',\n",
        "    'kode'    : 'RK-03-BLC',\n",
        "    'volume'  : '74',\n",
        "    'judul'   : 'The Death and The Strawberry',\n",
        "    'chapter' : ('675', '676', '677', '678', '679', '680',\n",
        "                 '681', '682', '683', '684', '685', '686'),\n",
        "    'tahun'   : 2012,\n",
        "    'harga'   : 4000,\n",
        "    'stok'    : 1\n",
        "}, {\n",
        "    'nama'    : 'Attack on Titan: War for Paradise',\n",
        "    'kode'    : 'RK-04-AOT',\n",
        "    'volume'  : '34',\n",
        "    'judul'   : 'The Battle of Heaven and Earth',\n",
        "    'chapter' : ('135', '136', '137', '138', '139'),\n",
        "    'tahun'   : 2018,\n",
        "    'harga'   : 2000,\n",
        "    'stok'    : 0\n",
        "}, {\n",
        "    'nama'    : 'Dragon Ball Super: Universe Survival',\n",
        "    'kode'    : 'RK-05-DBS',\n",
        "    'volume'  : '9',\n",
        "    'judul'   : \"Battle's End and Aftermath\",\n",
        "    'chapter' : ('41', '42', '43', '44'),\n",
        "    'tahun'   : 2020,\n",
        "    'harga'   : 2500,\n",
        "    'stok'    : 8\n",
        "}, {\n",
        "    'nama'    : 'Hunter x Hunter: Chimera Ant',\n",
        "    'kode'    : 'RK-06-HXH',\n",
        "    'volume'  : '28',\n",
        "    'judul'   : 'Regeneration',\n",
        "    'chapter' : ('291', '292', '293', '294', '295',\n",
        "                 '296', '297', '298', '299', '300'),\n",
        "    'tahun'   : 2011,\n",
        "    'harga'   : 2500,\n",
        "    'stok'    : 4\n",
        "}, {\n",
        "    'nama'    : 'Shokugeki no Sōma: BLUE',\n",
        "    'kode'    : 'RK-06-SNS',\n",
        "    'volume'  : '34',\n",
        "    'judul'   : 'Cross Knives',\n",
        "    'chapter' : ('291', '292', '293', '294', '295',\n",
        "                 '296', '297', '298', '299'),\n",
        "    'tahun'   : 2019,\n",
        "    'harga'   : 2000,\n",
        "    'stok'    : 4\n",
        "}]"
      ]
    },
    {
      "cell_type": "markdown",
      "metadata": {
        "id": "u9BRbKN79L1d"
      },
      "source": [
        "## Daftar Admin"
      ]
    },
    {
      "cell_type": "code",
      "execution_count": null,
      "metadata": {
        "id": "U7CdC3lAbgCY"
      },
      "outputs": [],
      "source": [
        "admin = [{\n",
        "    'username' : 'sasukeuchiha',\n",
        "    'password' : 'hokagebayangan7',\n",
        "    'nama'     : 'Sasuke',\n",
        "    'alamat'   : 'Konoha'\n",
        "}, {\n",
        "    'username' : 'narutouzumaki',\n",
        "    'password' : 'akuhokage7',\n",
        "    'nama'     : 'Naruto',\n",
        "    'alamat'   : 'Konoha'\n",
        "}]"
      ]
    },
    {
      "cell_type": "markdown",
      "metadata": {
        "id": "kT4jwJY_vzYI"
      },
      "source": [
        "## Daftar Member"
      ]
    },
    {
      "cell_type": "code",
      "execution_count": null,
      "metadata": {
        "id": "p2sQMhtVv12F"
      },
      "outputs": [],
      "source": [
        "member = [{\n",
        "    'noId'   : 'MEM-001',\n",
        "    'nama'   : 'Sakura',\n",
        "    'alamat' : 'Konoha'\n",
        "}, {\n",
        "    'noId'   : 'MEM-002',\n",
        "    'nama'   : 'Kakashi',\n",
        "    'alamat' : 'Konoha'\n",
        "}, {\n",
        "    'noId'   : 'MEM-003',\n",
        "    'nama'   : 'Sai',\n",
        "    'alamat' : 'Konoha'\n",
        "}]\n",
        "\n",
        "# member = []"
      ]
    },
    {
      "cell_type": "markdown",
      "metadata": {
        "id": "vRZh8ALXXuAi"
      },
      "source": [
        "## Daftar Transaksi"
      ]
    },
    {
      "cell_type": "code",
      "execution_count": null,
      "metadata": {
        "id": "aA31Z91tXwQZ"
      },
      "outputs": [],
      "source": [
        "data_transaksi = [{\n",
        "    'idTransaksi' : '20221210001',\n",
        "    'idMember' : 'MEM-001',\n",
        "    'kodeKomik' : 'RK-02-OPI',\n",
        "    'usernameAdmin' : 'narutouzumaki',\n",
        "    'tglPinjam' : '10-12-2022',\n",
        "    'tglKembali' : '17-12-2022',\n",
        "    'lamaPinjam' : 7,\n",
        "    'tglPengembalian' : '19-12-2022',\n",
        "    'totalBiaya' : 35000,\n",
        "    'denda' : 4000,\n",
        "    'totalBayar' : 39000,\n",
        "    'status' : True\n",
        "}, {\n",
        "    'idTransaksi' : '20221220002',\n",
        "    'idMember' : 'MEM-002',\n",
        "    'kodeKomik' : 'RK-02-OPI',\n",
        "    'usernameAdmin' : 'narutouzumaki',\n",
        "    'tglPinjam' : '20-12-2022',\n",
        "    'tglKembali' : '25-12-2022',\n",
        "    'lamaPinjam' : 5,\n",
        "    'tglPengembalian' : '25-12-2022',\n",
        "    'totalBiaya' : 25000,\n",
        "    'denda' : 0,\n",
        "    'totalBayar' : 25000,\n",
        "    'status' : True\n",
        "}, {\n",
        "    'idTransaksi': '20221230003',\n",
        "    'idMember': 'MEM-003',\n",
        "    'kodeKomik': 'RK-01-NSH',\n",
        "    'usernameAdmin': 'narutouzumaki',\n",
        "    'tglPinjam': '30-12-2022',\n",
        "    'tglKembali': '01-01-2023',\n",
        "    'lamaPinjam': 2,\n",
        "    'tglPengembalian': '-',\n",
        "    'totalBiaya': 6000,\n",
        "    'denda': 0,\n",
        "    'totalBayar': 6000,\n",
        "    'status': False\n",
        "}, {\n",
        "    'idTransaksi' : '20230102004',\n",
        "    'idMember' : 'MEM-001',\n",
        "    'kodeKomik' : 'RK-02-OPI',\n",
        "    'usernameAdmin' : 'narutouzumaki',\n",
        "    'tglPinjam' : '02-01-2023',\n",
        "    'tglKembali' : '09-01-2023',\n",
        "    'lamaPinjam' : 7,\n",
        "    'tglPengembalian' : '13-02-2023',\n",
        "    'totalBiaya' : 35000,\n",
        "    'denda' : 70000,\n",
        "    'totalBayar' : 105000,\n",
        "    'status' : True\n",
        "}, {\n",
        "    'idTransaksi' : '20230102005',\n",
        "    'idMember' : 'MEM-002',\n",
        "    'kodeKomik' : 'RK-02-OPI',\n",
        "    'usernameAdmin' : 'narutouzumaki',\n",
        "    'tglPinjam' : '02-01-2023',\n",
        "    'tglKembali' : '09-01-2023',\n",
        "    'lamaPinjam' : 7,\n",
        "    'tglPengembalian' : '13-02-2023',\n",
        "    'totalBiaya' : 35000,\n",
        "    'denda' : 70000,\n",
        "    'totalBayar' : 105000,\n",
        "    'status' : True\n",
        "}, {\n",
        "    'idTransaksi': '20230115006',\n",
        "    'idMember': 'MEM-003',\n",
        "    'kodeKomik': 'RK-01-NSH',\n",
        "    'usernameAdmin': 'narutouzumaki',\n",
        "    'tglPinjam': '15-01-2023',\n",
        "    'tglKembali': '19-01-2023',\n",
        "    'lamaPinjam': 4,\n",
        "    'tglPengembalian': '-',\n",
        "    'totalBiaya': 12000,\n",
        "    'denda': 0,\n",
        "    'totalBayar': 12000,\n",
        "    'status': False\n",
        "}]\n",
        "\n",
        "# data_transaksi = []"
      ]
    },
    {
      "cell_type": "markdown",
      "metadata": {
        "id": "00NbIa5wa2vr"
      },
      "source": [
        "## Daftar Nama Bulan"
      ]
    },
    {
      "cell_type": "code",
      "execution_count": null,
      "metadata": {
        "id": "0ya9g5Oja4aZ"
      },
      "outputs": [],
      "source": [
        "listBulan = ['Januari', 'Februari', 'Maret', 'April',\n",
        "             'Mei', 'Juni', 'Juli', 'Agustus',\n",
        "             'September', 'Oktober', 'November', 'Desember']\n"
      ]
    },
    {
      "cell_type": "markdown",
      "metadata": {
        "id": "WqMBiKeY9Hyz"
      },
      "source": [
        "# Sub-Program"
      ]
    },
    {
      "cell_type": "markdown",
      "metadata": {
        "id": "lYeURbKfLg0H"
      },
      "source": [
        "## Import Library"
      ]
    },
    {
      "cell_type": "code",
      "execution_count": null,
      "metadata": {
        "id": "IREmvVPDLi46"
      },
      "outputs": [],
      "source": [
        "from datetime import date\n",
        "from datetime import datetime\n",
        "from getpass import getpass\n",
        "import time"
      ]
    },
    {
      "cell_type": "markdown",
      "metadata": {
        "id": "u9mW5pKp-L28"
      },
      "source": [
        "## Clrscr"
      ]
    },
    {
      "cell_type": "code",
      "execution_count": null,
      "metadata": {
        "id": "dNwsji78-OIw"
      },
      "outputs": [],
      "source": [
        "def clrscrPesan(pesan):\n",
        "    input(pesan)\n",
        "    clrscr()\n",
        "\n",
        "def clrscr():\n",
        "    from IPython.display import clear_output\n",
        "    clear_output()\n"
      ]
    },
    {
      "cell_type": "markdown",
      "metadata": {
        "id": "hsHn0JTe-HAD"
      },
      "source": [
        "## Log In"
      ]
    },
    {
      "cell_type": "code",
      "execution_count": null,
      "metadata": {
        "id": "HNp5IAwZ9HTA"
      },
      "outputs": [],
      "source": [
        "# tampilan awal untuk log in\n",
        "def procedureLogIn():\n",
        "    while True:\n",
        "        clrscr()\n",
        "        print('-- Log In --')\n",
        "        username = input('\\nUsername : ')\n",
        "\n",
        "        # jika diisi exit, maka akan ke halaman sebelumnya\n",
        "        if username == 'exit':\n",
        "            break\n",
        "\n",
        "        password = getpass(prompt='Password : ')\n",
        "        index = logIn(username, password)\n",
        "\n",
        "        # jika log in gagal, maka ulangi lagi\n",
        "        if index == -1:\n",
        "            clrscrPesan('\\nUsername atau Password salah' +\n",
        "                        '\\nTekan enter untuk melanjutkan...')\n",
        "\n",
        "        # jika log in berhasil, maka masuk ke halaman utama\n",
        "        else:\n",
        "            landingPage('Nuju Log In ')\n",
        "            halamanUtama(index)\n",
        "            break\n",
        "\n",
        "# ==============================================================================\n",
        "\n",
        "# pengecekan log in\n",
        "def logIn(user, passw):\n",
        "    for i in range(len(admin)):\n",
        "        if user == admin[i]['username']:\n",
        "            if passw == admin[i]['password']:\n",
        "                return i\n",
        "                break\n",
        "\n",
        "    return -1\n",
        "\n",
        "# ==============================================================================\n",
        "\n",
        "def landingPage(role):\n",
        "    clrscr()\n",
        "    print('\\n\\n\\nKalem Antosan,', role, end='')\n",
        "    for i in range(3):\n",
        "        time.sleep(1)\n",
        "        print('.', end=' ')"
      ]
    },
    {
      "cell_type": "markdown",
      "metadata": {
        "id": "KMjRx04b-STc"
      },
      "source": [
        "## Sign Up"
      ]
    },
    {
      "cell_type": "code",
      "execution_count": null,
      "metadata": {
        "id": "JIBdYBtlySCf"
      },
      "outputs": [],
      "source": [
        "# tampilan untuk sign up (registrasi)\n",
        "def procedureRegistrasi():\n",
        "    while True:\n",
        "        clrscr()\n",
        "        print('-- Registrasi --')\n",
        "        username   = input('\\nUsername   : ')\n",
        "\n",
        "        # jika input exit, maka kembali ke halaman sebelumnya\n",
        "        if username == 'exit':\n",
        "            break\n",
        "\n",
        "        index = cekData(username, admin, 'username', '=')\n",
        "\n",
        "        # jika username tersedia, maka lanjut isi data\n",
        "        if index == -1:\n",
        "            password  = getpass(prompt='Password   : ')\n",
        "            namaAdmin = input('Nama Admin : ')\n",
        "            alamat    = input('Alamat     : ')\n",
        "\n",
        "            # tambah data admin\n",
        "            isiDataAdmin(username, password, namaAdmin, alamat)\n",
        "            clrscrPesan('\\nRegistrasi Berhasil' +\n",
        "                        '\\nTekan enter untuk melanjutkan...')\n",
        "            break\n",
        "\n",
        "        # jika username tidak tersedia, maka ulangi lagi\n",
        "        else:\n",
        "            clrscrPesan('\\nUsername telah digunakan, ' +\n",
        "                        'Silahkan pilih username yang lain' +\n",
        "                        '\\nTekan enter untuk melanjutkan...')\n",
        "\n",
        "# ==============================================================================\n",
        "\n",
        "# isi data admin\n",
        "def isiDataAdmin(user, passw, nama, alamat):\n",
        "    dict_admin = dict(\n",
        "        username = user, password = passw,\n",
        "        nama = nama, alamat = alamat\n",
        "    )\n",
        "\n",
        "    admin.append(dict_admin)\n"
      ]
    },
    {
      "cell_type": "markdown",
      "metadata": {
        "id": "ujgVSWHz-crV"
      },
      "source": [
        "## Menu"
      ]
    },
    {
      "cell_type": "code",
      "execution_count": null,
      "metadata": {
        "id": "1EjnivGg-igw"
      },
      "outputs": [],
      "source": [
        "# tampilan menu awal\n",
        "def menuAwal():\n",
        "    print('[1] Log In')\n",
        "    print('[2] Registrasi')\n",
        "    print('[3] Exit')\n",
        "\n",
        "# ==============================================================================\n",
        "\n",
        "# tampilan menu utama\n",
        "def menuUtama():\n",
        "    print('[1] Kelola Transaksi Komik')\n",
        "    print('[2] Kelola Data Admin')\n",
        "    print('[3] Kelola Data Member')\n",
        "    print('[4] Log Out')\n",
        "\n",
        "# ==============================================================================\n",
        "\n",
        "# tampilan menu transaksi\n",
        "def menuTransaksi():\n",
        "    print('[1] Peminjaman Komik')\n",
        "    print('[2] Pengembalian Komik')\n",
        "    print('[3] Kelola Data Transaksi')\n",
        "    print('[4] Kembali')\n",
        "\n",
        "# ==============================================================================\n",
        "\n",
        "# menu lihat, ubah, dan hapus data\n",
        "def menuKelolaData():\n",
        "    print('[1] Tambah Data')\n",
        "    print('[2] Lihat Data')\n",
        "    print('[3] Ubah Data')\n",
        "    print('[4] Hapus Data')\n",
        "    print('[5] Kembali')\n",
        "\n",
        "# ==============================================================================\n",
        "\n",
        "# menu kelola data transaksi, lihat dan hapus\n",
        "def menuKelolaDataTransaksi():\n",
        "    print('[1] Lihat Semua Transaksi')\n",
        "    print('[2] Hapus Transaksi')\n",
        "    print('[3] Kembali')\n"
      ]
    },
    {
      "cell_type": "markdown",
      "metadata": {
        "id": "f0hORKHBJyhi"
      },
      "source": [
        "### Main Program"
      ]
    },
    {
      "cell_type": "code",
      "execution_count": null,
      "metadata": {
        "id": "W__CK79TJ1gK"
      },
      "outputs": [],
      "source": [
        "# tampilan halaman awal\n",
        "def main():\n",
        "    while True:\n",
        "        clrscr()\n",
        "        print('-- WELKAM to COMIC RENT --\\n')\n",
        "        menuAwal()\n",
        "        pilih = input('\\nPilihan : ')\n",
        "\n",
        "        # log in\n",
        "        if pilih == '1':\n",
        "            procedureLogIn()\n",
        "\n",
        "        # sign up\n",
        "        elif pilih == '2':\n",
        "            procedureRegistrasi()\n",
        "\n",
        "        # exit program\n",
        "        elif pilih == '3':\n",
        "            print('\\n--- Dadah \\m/ ---')\n",
        "            break\n",
        "\n",
        "        # pilihan lain\n",
        "        else:\n",
        "            clrscrPesan('\\n--- Tidak ada pilihan ---' +\n",
        "                        '\\nTekan enter untuk melanjutkan...')\n"
      ]
    },
    {
      "cell_type": "markdown",
      "metadata": {
        "id": "piVGPNrjJ8tJ"
      },
      "source": [
        "### Halaman Utama"
      ]
    },
    {
      "cell_type": "code",
      "execution_count": null,
      "metadata": {
        "id": "Trwrzkp1J-Lm"
      },
      "outputs": [],
      "source": [
        "# tampilan halaman utama\n",
        "def halamanUtama(index):\n",
        "    while True:\n",
        "        clrscr()\n",
        "        print('-- WELKAM BEK,', admin[index]['nama'], '--\\n')\n",
        "        menuUtama()\n",
        "        pilih = input('\\nPilihan Menu : ')\n",
        "\n",
        "        # transaksi peminjaman dan pengembalian komik\n",
        "        if pilih == '1':\n",
        "            transaksi(index)\n",
        "\n",
        "        # kelola data admin\n",
        "        elif pilih == '2':\n",
        "            kelolaData(index, 'admin')\n",
        "\n",
        "        # kelola data member\n",
        "        elif pilih == '3':\n",
        "            kelolaData(index, 'member')\n",
        "\n",
        "        # log out\n",
        "        elif pilih == '4':\n",
        "            landingPage('Nuju Log Out ')\n",
        "            break\n",
        "\n",
        "        # pilihan lain\n",
        "        else:\n",
        "            clrscrPesan('\\n--- Tidak ada pilihan ---' +\n",
        "                        '\\nTekan enter untuk melanjutkan...')\n"
      ]
    },
    {
      "cell_type": "markdown",
      "metadata": {
        "id": "Eul3JwlkKSr-"
      },
      "source": [
        "### Kelola Data"
      ]
    },
    {
      "cell_type": "code",
      "execution_count": null,
      "metadata": {
        "id": "tlowSDcEKUsV"
      },
      "outputs": [],
      "source": [
        "# menu kelola admin\n",
        "def kelolaData(index, role):\n",
        "    while True:\n",
        "        clrscr()\n",
        "        print('Admin Operator :', admin[index]['nama'], '\\n')\n",
        "        menuKelolaData()\n",
        "        pilih = input('\\nPilihan Menu : ')\n",
        "\n",
        "        if pilih == '1':\n",
        "            kelolaTambahData(role)\n",
        "\n",
        "        elif pilih == '2':\n",
        "            kelolaLihatData(role)\n",
        "\n",
        "        elif pilih == '3':\n",
        "            kelolaUbahData(role, index)\n",
        "\n",
        "        elif pilih == '4':\n",
        "            kelolaHapusData(role, index)\n",
        "\n",
        "        elif pilih == '5':\n",
        "            break\n",
        "\n",
        "        else:\n",
        "            clrscrPesan('\\n--- Tidak ada pilihan ---' +\n",
        "                        '\\nTekan enter untuk melanjutkan...')\n",
        "\n",
        "# ==============================================================================\n",
        "\n",
        "# kelola tambah data\n",
        "def kelolaTambahData(role):\n",
        "    if role == 'admin':\n",
        "        tambahAdmin()\n",
        "\n",
        "    elif role == 'member':\n",
        "        tambahMember()\n",
        "\n",
        "# ==============================================================================\n",
        "\n",
        "# kelola lihat data\n",
        "def kelolaLihatData(role):\n",
        "    if role == 'admin':\n",
        "        if admin:\n",
        "            clrscr()\n",
        "            print('-- Data Admin --')\n",
        "            for i in range(len(admin)):\n",
        "                print('\\n', str(i+1), end='')\n",
        "                tampilkanAdmin(i)\n",
        "\n",
        "            clrscrPesan('\\nTekan enter untuk melanjutkan...')\n",
        "\n",
        "        else:\n",
        "            clrscrPesan('\\nData Admin Kosong' +\n",
        "                        '\\nTekan enter untuk melanjutkan...')\n",
        "\n",
        "    elif role == 'member':\n",
        "        if member:\n",
        "            clrscr()\n",
        "            print('-- Data Member --')\n",
        "            for i in range(len(member)):\n",
        "                print('\\n', str(i+1), end='')\n",
        "                tampilkanMember(i)\n",
        "\n",
        "            clrscrPesan('\\nTekan enter untuk melanjutkan...')\n",
        "\n",
        "        else:\n",
        "            clrscrPesan('\\nData Member Kosong' +\n",
        "                        '\\nTekan enter untuk melanjutkan...')\n",
        "\n",
        "# ==============================================================================\n",
        "\n",
        "# kelola ubah data\n",
        "def kelolaUbahData(role, index):\n",
        "    if role == 'admin':\n",
        "        ubahAdmin(index)\n",
        "\n",
        "    elif role == 'member':\n",
        "        ubahMember(index)\n",
        "\n",
        "# ==============================================================================\n",
        "\n",
        "# kelola hapus data\n",
        "def kelolaHapusData(role, index):\n",
        "    if role == 'admin':\n",
        "        hapusAdmin()\n",
        "\n",
        "    elif role == 'member':\n",
        "        hapusMember(index)\n",
        "\n",
        "# ==============================================================================\n",
        "\n",
        "# kelola data transaksi\n",
        "def kelolaDataTransaksi(index):\n",
        "    while True:\n",
        "        clrscr()\n",
        "        print('Admin Operator :', admin[index]['nama'], '\\n')\n",
        "        menuKelolaDataTransaksi()\n",
        "        pilih = input('\\nPilihan Menu : ')\n",
        "\n",
        "        if pilih == '1':\n",
        "            kelolaLihatTransaksi()\n",
        "\n",
        "        elif pilih == '2':\n",
        "            hapusTransaksi(index)\n",
        "\n",
        "        elif pilih == '3':\n",
        "            break\n",
        "\n",
        "        else:\n",
        "            clrscrPesan('\\n--- Tidak ada pilihan ---' +\n",
        "                        '\\nTekan enter untuk melanjutkan...')\n",
        "\n",
        "# ==============================================================================\n",
        "\n",
        "# lihat data transaksi\n",
        "def kelolaLihatTransaksi():\n",
        "    if data_transaksi:\n",
        "        clrscr()\n",
        "        print('-- Data Transaksi --')\n",
        "        for i in range(len(data_transaksi)):\n",
        "            print('\\n', str(i+1), end='')\n",
        "            tampilkanTransaksi(i)\n",
        "\n",
        "        clrscrPesan('\\nTekan enter untuk melanjutkan...')\n",
        "\n",
        "    else:\n",
        "        clrscrPesan('\\nData Transaksi Kosong' +\n",
        "                    '\\nTekan enter untuk melanjutkan...')\n"
      ]
    },
    {
      "cell_type": "markdown",
      "metadata": {
        "id": "l30NdPCSwYTn"
      },
      "source": [
        "# CRUD + Search + Expression"
      ]
    },
    {
      "cell_type": "markdown",
      "metadata": {
        "id": "HG1AkLB3Z84u"
      },
      "source": [
        "## Search Data"
      ]
    },
    {
      "cell_type": "code",
      "execution_count": null,
      "metadata": {
        "id": "q_JMRwlqZ99A"
      },
      "outputs": [],
      "source": [
        "# pengecekan data\n",
        "def cekData(data, namaList, namaKey, simbol):\n",
        "    for i in range(len(namaList)):\n",
        "        if simbol == 'in':\n",
        "            if data.casefold() in namaList[i][namaKey].casefold():\n",
        "                return i\n",
        "        elif simbol == '=':\n",
        "            if data == namaList[i][namaKey]:\n",
        "                return i\n",
        "    return -1\n"
      ]
    },
    {
      "cell_type": "markdown",
      "metadata": {
        "id": "D6vB8jmELP2A"
      },
      "source": [
        "### Cari Tanggal"
      ]
    },
    {
      "cell_type": "code",
      "execution_count": null,
      "metadata": {
        "id": "3sYKuZRHwcaG"
      },
      "outputs": [],
      "source": [
        "# merubah inputan tanggal supaya jadi valid\n",
        "def validasiTanggal(tglBlnThn):\n",
        "    tanggal, bulan, tahun = tglBlnThn.split('-')\n",
        "    tanggal, bulan, tahun = int(tanggal), int(bulan), int(tahun)\n",
        "\n",
        "    if tahun % 4 == 0:\n",
        "        kabisat = True\n",
        "    else:\n",
        "        kabisat = False\n",
        "\n",
        "    if bulan > 12:\n",
        "        i = 0\n",
        "        while bulan > 12:\n",
        "            bulan = bulan - 12\n",
        "            i += 1\n",
        "        tahun = tahun + i\n",
        "    elif bulan < 1:\n",
        "        i = 0\n",
        "        while bulan < 1:\n",
        "            bulan = bulan + 12\n",
        "            i += 1\n",
        "        tahun = tahun - 1\n",
        "\n",
        "    if bulan in (1, 3, 5, 7, 8, 10, 12):\n",
        "        max_tgl = 31\n",
        "    elif bulan in (4, 6, 9, 11):\n",
        "        max_tgl = 30\n",
        "    elif bulan == 2:\n",
        "        if kabisat:\n",
        "            max_tgl = 29\n",
        "        else:\n",
        "            max_tgl = 28\n",
        "\n",
        "    if tanggal > max_tgl:\n",
        "        tanggal = tanggal - max_tgl\n",
        "        if bulan == 12:\n",
        "            bulan = 1\n",
        "            tahun += 1\n",
        "        else:\n",
        "            bulan += 1\n",
        "\n",
        "    tgl = str(tanggal).rjust(2, '0')\n",
        "    bln = str(bulan).rjust(2, '0')\n",
        "    thn = str(tahun)\n",
        "    tanggalValid = '%s-%s-%s' % (tgl, bln, thn)\n",
        "    return tanggalValid\n",
        "\n",
        "# ==============================================================================\n",
        "\n",
        "# hitung hari berikutnya\n",
        "def hariBerikutnya(tanggal, bulan, tahun, lama):\n",
        "    if tahun % 4 == 0:\n",
        "        kabisat = True\n",
        "    else:\n",
        "        kabisat = False\n",
        "\n",
        "    if bulan in (1, 3, 5, 7, 8, 10, 12):\n",
        "        max_tgl = 31\n",
        "    elif bulan in (4, 6, 9, 11):\n",
        "        max_tgl = 30\n",
        "    elif bulan == 2:\n",
        "        if kabisat:\n",
        "            max_tgl = 29\n",
        "        else:\n",
        "            max_tgl = 28\n",
        "\n",
        "    tanggal = tanggal + lama\n",
        "    if tanggal > max_tgl:\n",
        "        tanggal = tanggal - max_tgl\n",
        "        if bulan == 12:\n",
        "            bulan = 1\n",
        "            tahun += 1\n",
        "        else:\n",
        "            bulan += 1\n",
        "\n",
        "    return tanggal, bulan, tahun\n"
      ]
    },
    {
      "cell_type": "markdown",
      "metadata": {
        "id": "qI8sh_fewgrF"
      },
      "source": [
        "## Create Data"
      ]
    },
    {
      "cell_type": "markdown",
      "metadata": {
        "id": "TWpnxOY3K05f"
      },
      "source": [
        "### Tambah Transaksi"
      ]
    },
    {
      "cell_type": "code",
      "execution_count": null,
      "metadata": {
        "id": "igLknSPSK3Us"
      },
      "outputs": [],
      "source": [
        "# transaksi peminjaman dan pengembalian komik\n",
        "def transaksi(index):\n",
        "    while True:\n",
        "        clrscr()\n",
        "        print('-- Menu Transaksi --\\n')\n",
        "        menuTransaksi()\n",
        "        pilih = input('\\nPilihan Menu : ')\n",
        "\n",
        "        # transaksi peminjaman komik\n",
        "        if pilih == '1':\n",
        "            transaksiPeminjaman(index)\n",
        "\n",
        "        # transaksi pengembalian komik\n",
        "        elif pilih == '2':\n",
        "            transaksiPengembalian(index)\n",
        "\n",
        "        # lihat data transaksi komik\n",
        "        elif pilih == '3':\n",
        "            kelolaDataTransaksi(index)\n",
        "\n",
        "        # kembali ke halaman sebelumnya\n",
        "        elif pilih == '4':\n",
        "            # clrscrPesan('Tekan enter untuk melanjutkan...')\n",
        "            break\n",
        "\n",
        "        else:\n",
        "            clrscrPesan('\\n--- Tidak ada pilihan ---' +\n",
        "                        '\\nTekan enter untuk melanjutkan...')\n",
        "\n",
        "# ==============================================================================\n",
        "\n",
        "# transaksi peminjaman komik\n",
        "def transaksiPeminjaman(indexAdmin):\n",
        "    clrscr()\n",
        "    print('Admin Operator :', admin[indexAdmin]['nama'], '\\n')\n",
        "    print('-- Transaksi Peminjaman Komik --')\n",
        "    print('---- (\"exit\" untuk keluar) -----\\n')\n",
        "    idMember = input('\\nNomor ID Member : ')\n",
        "\n",
        "    if idMember != 'exit':\n",
        "        # cek ID member\n",
        "        indexMember = cekData(idMember, member, 'noId', 'in')\n",
        "\n",
        "        # jika ID member salah, maka ulangi lagi\n",
        "        if indexMember == -1:\n",
        "            clrscrPesan('\\nNomor ID tidak ditemukan' +\n",
        "                        '\\nTekan enter untuk melanjutkan...')\n",
        "\n",
        "        # jika ID member benar, lanjut isi data transaksi\n",
        "        else:\n",
        "            tambahTransaksi(indexMember, indexAdmin)\n",
        "\n",
        "# ==============================================================================\n",
        "\n",
        "# tambah data transaksi\n",
        "def tambahTransaksi(indexMember, indexAdmin):\n",
        "    print('ID Member    :', member[indexMember]['noId'])\n",
        "    print('Nama Member  :', member[indexMember]['nama'])\n",
        "    kodeKomik = input('Cari Kode Komik : ')\n",
        "\n",
        "    # cari informasi dari komik yang akan dipinjam\n",
        "    indexKomik = cekData(kodeKomik, komik, 'kode', 'in')\n",
        "\n",
        "    # jika data komik tidak ada, ulangi lagi\n",
        "    if indexKomik == -1:\n",
        "        clrscrPesan('\\nKode komik tidak ditemukan' +\n",
        "                    '\\nTekan enter untuk melanjutkan...')\n",
        "\n",
        "    # jika data komik ditemukan, lanjut isi data peminjaman\n",
        "    else:\n",
        "        print('\\n\\t-- Informasi Komik --\\n')\n",
        "        tampilkanKomik(indexKomik)\n",
        "        stok = komik[indexKomik]['stok']\n",
        "\n",
        "        # jika stok komiknya abis, ulangi lagi\n",
        "        if stok < 1:\n",
        "            clrscrPesan('\\nStok komik telah habis' +\n",
        "                        '\\nTekan enter untuk melanjutkan...')\n",
        "\n",
        "        # jika stok komiknya masih ada, lanjutkan peminjaman\n",
        "        else:\n",
        "            isiDataPeminjaman(indexKomik, indexMember, indexAdmin)\n",
        "            clrscrPesan('\\nInput Data Peminjaman Berhasil' +\n",
        "                        '\\nTekan enter untuk mencetak bukti peminjaman...')\n",
        "\n",
        "            print('-- Bukti Peminjaman Komik --\\n')\n",
        "            tampilkanTransaksi(-1)\n",
        "            clrscrPesan('\\nTekan enter untuk melanjutkan...')\n",
        "\n",
        "# ==============================================================================\n",
        "\n",
        "# bikin kode transaksi secara otomatis dari tanggal hari ini\n",
        "def ambilKodeTransaksi():\n",
        "    today = date.today()\n",
        "    today = today.strftime('%Y%m%d')\n",
        "    kode = today + str(len(data_transaksi) + 1).rjust(3, '0')\n",
        "    return kode\n",
        "\n",
        "# ==============================================================================\n",
        "\n",
        "# pengisian data peminjaman\n",
        "def isiDataPeminjaman(indexKomik, indexMember, indexAdmin):\n",
        "    idTransaksi = ambilKodeTransaksi()\n",
        "\n",
        "    print('\\n- Masukkan tanggal sesuai format (dd-mm-yyyy) -')\n",
        "    tglPinjam  = input('Tanggal Pinjam  : ')\n",
        "    tglPinjam  = validasiTanggal(tglPinjam)\n",
        "    lamaPinjam = int(input('Durasi Pinjam   : '))\n",
        "    tglKembali = ambilTanggalKembali(tglPinjam, lamaPinjam)\n",
        "    totalBiaya = komik[indexKomik]['harga'] * lamaPinjam\n",
        "    status = False\n",
        "    komik[indexKomik]['stok'] -= 1\n",
        "\n",
        "    # tambah data transaksi\n",
        "    isiDataTransaksi(idTransaksi, indexMember, indexKomik,\n",
        "                     indexAdmin, tglPinjam, tglKembali,\n",
        "                     lamaPinjam, totalBiaya, status)\n",
        "\n",
        "# ==============================================================================\n",
        "\n",
        "# pembuatan Dict-List dari data transaksi\n",
        "def isiDataTransaksi(idTransaksi, indexMember, indexKomik,\n",
        "                     indexAdmin, tglPinjam, tglKembali,\n",
        "                     lamaPinjam, totalBiaya, status):\n",
        "    dict_transaksi = dict(\n",
        "        idTransaksi = idTransaksi,\n",
        "        idMember = member[indexMember]['noId'],\n",
        "        kodeKomik = komik[indexKomik]['kode'],\n",
        "        usernameAdmin = admin[indexAdmin]['username'],\n",
        "        tglPinjam = tglPinjam,\n",
        "        tglKembali = tglKembali,\n",
        "        lamaPinjam = lamaPinjam,\n",
        "        tglPengembalian = '-',\n",
        "        totalBiaya = totalBiaya,\n",
        "        denda = 0,\n",
        "        totalBayar = totalBiaya,\n",
        "        status = status\n",
        "    )\n",
        "\n",
        "    data_transaksi.append(dict_transaksi)\n",
        "\n",
        "# ==============================================================================\n",
        "\n",
        "# cari tanggal pengembalian dari durasi peminjaman\n",
        "def ambilTanggalKembali(tanggalPinjam, lamaPinjam):\n",
        "    tgl, bln, thn = tanggalPinjam.split('-')\n",
        "    tgl, bln, thn = hariBerikutnya(\n",
        "        int(tgl), int(bln), int(thn), lamaPinjam)\n",
        "    tgl = str(tgl).rjust(2, '0')\n",
        "    bln = str(bln).rjust(2, '0')\n",
        "    thn = str(thn)\n",
        "    tanggalKembali = '%s-%s-%s' % (tgl, bln, thn)\n",
        "    return tanggalKembali"
      ]
    },
    {
      "cell_type": "markdown",
      "metadata": {
        "id": "0JAM8D4W_e5C"
      },
      "source": [
        "### Tambah Admin"
      ]
    },
    {
      "cell_type": "code",
      "execution_count": null,
      "metadata": {
        "id": "t5BS8xtO_iTS"
      },
      "outputs": [],
      "source": [
        "# tambah admin\n",
        "def tambahAdmin():\n",
        "    clrscrPesan('\\nSilahkan Log Out Terlebih Dahulu' +\n",
        "                '\\nKemudian Registrasi di Awal Program' +\n",
        "                '\\nTekan enter untuk melanjutkan...')"
      ]
    },
    {
      "cell_type": "markdown",
      "metadata": {
        "id": "IZqfdlr9KrsH"
      },
      "source": [
        "### Tambah Member"
      ]
    },
    {
      "cell_type": "code",
      "execution_count": null,
      "metadata": {
        "id": "PtNlgVXaKuF0"
      },
      "outputs": [],
      "source": [
        "# tambah member\n",
        "def tambahMember():\n",
        "    clrscr()\n",
        "    print('------- Tambah Member -------')\n",
        "    print('--- (\"exit\" untuk keluar) ---\\n')\n",
        "    namaMember = input('\\nNama Member : ')\n",
        "\n",
        "    if namaMember != 'exit':\n",
        "        # siapkan noId untuk member secara otomatis\n",
        "        noInc = len(member) + 1\n",
        "        noId = 'MEM-' + (str(noInc).rjust(3,'0'))\n",
        "\n",
        "        # isi data member baru\n",
        "        print('Nomor ID    :', noId)\n",
        "        alamatMember = input('Alamat      : ')\n",
        "\n",
        "        # tambah data member\n",
        "        isiDataMember(noId, namaMember, alamatMember)\n",
        "        clrscrPesan('\\nTambah Data Member Berhasil' +\n",
        "                    '\\nTekan enter untuk melanjutkan...')\n",
        "\n",
        "# ==============================================================================\n",
        "\n",
        "# pembuatan Dict-List dari data member\n",
        "def isiDataMember(noId, nama, alamat):\n",
        "    dict_member = dict(noId = noId, nama = nama, alamat = alamat)\n",
        "    member.append(dict_member)"
      ]
    },
    {
      "cell_type": "markdown",
      "metadata": {
        "id": "zZlHQv5x-lru"
      },
      "source": [
        "## Read Data"
      ]
    },
    {
      "cell_type": "markdown",
      "metadata": {
        "id": "VciLhfuxLxwV"
      },
      "source": [
        "### Tampilkan Data Admin"
      ]
    },
    {
      "cell_type": "code",
      "execution_count": null,
      "metadata": {
        "id": "YTRC4_pUL0fO"
      },
      "outputs": [],
      "source": [
        "# tampilkan data admin\n",
        "def tampilkanAdmin(i):\n",
        "    print('\\tNama Admin   :', admin[i]['nama'])\n",
        "    print('\\tUsername     :', admin[i]['username'])\n",
        "    print('\\tPassword     :', admin[i]['password'])\n",
        "    print('\\tAlamat       :', admin[i]['alamat'])"
      ]
    },
    {
      "cell_type": "markdown",
      "metadata": {
        "id": "ZALp4CPML1x0"
      },
      "source": [
        "### Tampilkan Data Member"
      ]
    },
    {
      "cell_type": "code",
      "execution_count": null,
      "metadata": {
        "id": "mtvqv48qL5J0"
      },
      "outputs": [],
      "source": [
        "# tmapilkan data member\n",
        "def tampilkanMember(i):\n",
        "    print('\\tNomor ID    :', member[i]['noId'])\n",
        "    print('\\tNama Member :', member[i]['nama'])\n",
        "    print('\\tAlamat      :', member[i]['alamat'])"
      ]
    },
    {
      "cell_type": "markdown",
      "metadata": {
        "id": "k7Lug0B0L7qJ"
      },
      "source": [
        "### Tampilkan Data Komik"
      ]
    },
    {
      "cell_type": "code",
      "execution_count": null,
      "metadata": {
        "id": "ZUNbY47hL98j"
      },
      "outputs": [],
      "source": [
        "# tampilkan data komik\n",
        "def tampilkanKomik(i):\n",
        "    print('\\tKode Komik   :', komik[i]['kode'])\n",
        "    print('\\tNama Komik   :', komik[i]['nama'])\n",
        "    print('\\tNo. Volume   :', komik[i]['volume'])\n",
        "    print('\\tJudul Volume :', komik[i]['judul'])\n",
        "    print('\\tIsi Chapter  :', ', '.join(\n",
        "        str(x) for x in komik[i]['chapter']))\n",
        "    print('\\tTahun Terbit :', komik[i]['tahun'])\n",
        "    print('\\tHarga Sewa   : Rp.', komik[i]['harga'], 'perhari')\n",
        "    print('\\tStok         :', komik[i]['stok'])"
      ]
    },
    {
      "cell_type": "markdown",
      "metadata": {
        "id": "MZB8eLVrMAb6"
      },
      "source": [
        "### Tampilkan Data Transaksi"
      ]
    },
    {
      "cell_type": "code",
      "execution_count": null,
      "metadata": {
        "id": "f2Sni50w-nEu"
      },
      "outputs": [],
      "source": [
        "# tampilkan data transaksi\n",
        "def tampilkanTransaksi(i):\n",
        "    print('\\tID Transaksi        :', data_transaksi[i]['idTransaksi'])\n",
        "    print('\\tID Member           :', data_transaksi[i]['idMember'])\n",
        "    print('\\tKode Komik          :', data_transaksi[i]['kodeKomik'])\n",
        "    print('\\tUsername Admin      :', data_transaksi[i]['usernameAdmin'])\n",
        "    print('\\tTgl Peminjaman      :', data_transaksi[i]['tglPinjam'])\n",
        "    print('\\tBatas Tgl Pinjam    :', data_transaksi[i]['tglKembali'])\n",
        "    print('\\tDurasi Peminjaman   :', data_transaksi[i]['lamaPinjam'], 'hari')\n",
        "    print('\\tTgl Pengembalian    :', data_transaksi[i]['tglPengembalian'])\n",
        "    print('\\tBiaya Peminjaman    : Rp.', data_transaksi[i]['totalBiaya'])\n",
        "    print('\\tDenda               : Rp.', data_transaksi[i]['denda'])\n",
        "    print('\\tStatus Pengembalian :', data_transaksi[i]['status'])\n",
        "    print('\\t===================================')\n",
        "    print('\\tTotal Pembayaran    : Rp.', data_transaksi[i]['totalBayar'])"
      ]
    },
    {
      "cell_type": "markdown",
      "metadata": {
        "id": "Yf8_5XfOB-lF"
      },
      "source": [
        "## Update Data"
      ]
    },
    {
      "cell_type": "markdown",
      "metadata": {
        "id": "gMLEAOaUMfmh"
      },
      "source": [
        "### Pengembalian Komik"
      ]
    },
    {
      "cell_type": "code",
      "execution_count": null,
      "metadata": {
        "id": "EhM2puNpMeOW"
      },
      "outputs": [],
      "source": [
        "# transaksi pengembalian komik\n",
        "def transaksiPengembalian(indexAdmin):\n",
        "    clrscr()\n",
        "    print('Admin Operator :', admin[indexAdmin]['nama'], '\\n')\n",
        "    print('-- Transaksi Pengembalian Komik --')\n",
        "    print('----- (\"exit\" untuk keluar) ------\\n')\n",
        "\n",
        "    # jika Data Transaksi tidak kosong, lanjut pengembalian komik\n",
        "    if data_transaksi:\n",
        "        idTransaksi = input('\\nNomor ID Transaksi : ')\n",
        "\n",
        "        if idTransaksi != 'exit':\n",
        "            # cek ID Transaksi\n",
        "            indexTransaksi = cekData(idTransaksi, data_transaksi,\n",
        "                                     'idTransaksi', '=')\n",
        "\n",
        "            if indexTransaksi == -1:\n",
        "                clrscrPesan('\\nNomor ID Transaksi salah' +\n",
        "                            '\\nTekan enter untuk melanjutkan...')\n",
        "\n",
        "            # jika ID Transaksi benar, lanjut pengembalian komik\n",
        "            else:\n",
        "                print('\\n\\t-- Informasi Peminjaman --\\n')\n",
        "                tampilkanTransaksi(indexTransaksi)\n",
        "\n",
        "                # jika status transaksi = True, maka komik sudah dikembalikan\n",
        "                if data_transaksi[indexTransaksi]['status']:\n",
        "                    clrscrPesan('\\nKomik yang dipinjam, sudah dikembalikan' +\n",
        "                                '\\nTekan enter untuk melanjutkan...')\n",
        "\n",
        "                # jika status transaksi = False, maka komik belum dikembalikan\n",
        "                else:\n",
        "                    prosesPengembalian(indexTransaksi)\n",
        "\n",
        "    # jika Data Transaksi kosong, maka tidak bisa melakukan pengembalian komik\n",
        "    else:\n",
        "        clrscrPesan('\\nData Transaksi Kosong' +\n",
        "                    '\\nTekan enter untuk melanjutkan...')\n",
        "\n",
        "# ==============================================================================\n",
        "\n",
        "# proses pengembalian komik\n",
        "def prosesPengembalian(indexTransaksi):\n",
        "    tglKembali = data_transaksi[indexTransaksi]['tglKembali']\n",
        "\n",
        "    print('\\n- Masukkan tanggal sesuai format (dd-mm-yyy) -')\n",
        "    tglPengembalian = input('Tanggal Pengembalian : ')\n",
        "    tglPengembalian = validasiTanggal(tglPengembalian)\n",
        "    selisihTgl = hitungSelisihTanggal(tglPengembalian, tglKembali)\n",
        "\n",
        "    # denda diberi nilai default 0\n",
        "    denda = 0\n",
        "    print()\n",
        "\n",
        "    # jika ada keterlambatan pengembalian komik\n",
        "    if selisihTgl > 0:\n",
        "        denda = 2000 * selisihTgl\n",
        "        print('Terlambat            :', selisihTgl, 'hari')\n",
        "        print('Biaya Denda          : Rp. 2000 / hari')\n",
        "        print('Total Biaya Denda    : Rp.', denda)\n",
        "\n",
        "    totalPembayaran = denda + data_transaksi[indexTransaksi]['totalBiaya']\n",
        "    print('===================================')\n",
        "    print('Total Pembayaran     : Rp.', totalPembayaran)\n",
        "    uangBayar = int(input('Masukkan uang bayar  : Rp. '))\n",
        "    uangKembali = uangBayar - totalPembayaran\n",
        "\n",
        "    if uangKembali < 0:\n",
        "        clrscrPesan('\\nUang anda kurang' +\n",
        "                    '\\nTekan enter untuk melanjutkan...')\n",
        "\n",
        "    else:\n",
        "        print('===================================')\n",
        "        print('Uang Kembali         : Rp', uangKembali)\n",
        "        updateDataTransaksi(indexTransaksi, tglPengembalian,\n",
        "                            denda, totalPembayaran)\n",
        "        clrscrPesan('\\nTerima kasih telah mengembalikan komik' +\n",
        "                    '\\nTekan enter untuk melanjutkan...')\n",
        "\n",
        "\n",
        "# ==============================================================================\n",
        "\n",
        "# update data transaksi dan stok komik\n",
        "def updateDataTransaksi(indexID, tglPengembalian, denda, totalPembayaran):\n",
        "    data_transaksi[indexID]['tglPengembalian'] = tglPengembalian\n",
        "    data_transaksi[indexID]['denda'] = denda\n",
        "    data_transaksi[indexID]['totalBayar'] = totalPembayaran\n",
        "    data_transaksi[indexID]['status'] = True\n",
        "\n",
        "    kodeKomik = data_transaksi[indexID]['kodeKomik']\n",
        "    for i in range(len(komik)):\n",
        "        if kodeKomik == komik[i]['kode']:\n",
        "            komik[i]['stok'] += 1\n",
        "\n",
        "# ==============================================================================\n",
        "\n",
        "# hitung selisih tanggal\n",
        "def hitungSelisihTanggal(tglPengembalian, tglKembali):\n",
        "    start_date = datetime.strptime(tglKembali, \"%d-%m-%Y\")\n",
        "    end_date = datetime.strptime(tglPengembalian, \"%d-%m-%Y\")\n",
        "    selisih = (end_date - start_date).days\n",
        "\n",
        "    if selisih > 0:\n",
        "        return selisih\n",
        "    else:\n",
        "        return 0\n"
      ]
    },
    {
      "cell_type": "markdown",
      "metadata": {
        "id": "7BkbGGGSMm7A"
      },
      "source": [
        "### Ubah Data Admin"
      ]
    },
    {
      "cell_type": "code",
      "execution_count": null,
      "metadata": {
        "id": "pweYSkd1B_8C"
      },
      "outputs": [],
      "source": [
        "# ubah data admin\n",
        "def ubahAdmin(index):\n",
        "    clrscr()\n",
        "    print('-- Silahkan Masukkan Data Anda yang Baru --')\n",
        "    print('---------- (\"exit\" untuk keluar) ----------\\n')\n",
        "    username = input('\\nUsername Baru : ')\n",
        "\n",
        "    if username != 'exit':\n",
        "        cek = cekData(username, admin, 'username', '=')\n",
        "\n",
        "        if cek == -1:\n",
        "            admin[index]['username'] = username\n",
        "            admin[index]['password'] = getpass('Password Baru : ')\n",
        "            admin[index]['nama']     = input  ('Nama Baru     : ')\n",
        "            admin[index]['alamat']   = input  ('Alamat Baru   : ')\n",
        "\n",
        "            clrscrPesan('\\nData Admin telah diubah' +\n",
        "                        '\\nTekan enter untuk melanjutkan...')\n",
        "\n",
        "        else:\n",
        "            clrscrPesan('\\nUsername tidak tersedia' +\n",
        "                        '\\nTekan enter untuk melanjutkan...')\n"
      ]
    },
    {
      "cell_type": "markdown",
      "metadata": {
        "id": "ceonzAQ5MsEj"
      },
      "source": [
        "### Ubah Data Member"
      ]
    },
    {
      "cell_type": "code",
      "execution_count": null,
      "metadata": {
        "id": "E2yig5HJMu5K"
      },
      "outputs": [],
      "source": [
        "# ubah data member\n",
        "def ubahMember(indexAdmin):\n",
        "    clrscr()\n",
        "    print('-- Silahkan Masukkan Data Member yang Akan Diubah --')\n",
        "    print('-------------- (\"exit\" untuk keluar) ---------------\\n')\n",
        "    idMember = input('\\nID Member : ')\n",
        "\n",
        "    if idMember != 'exit':\n",
        "        indexMember = cekData(idMember, member, 'noId', 'in')\n",
        "\n",
        "        if indexMember == -1:\n",
        "            clrscrPesan('\\nID Member Tidak Ditemukan' +\n",
        "                        '\\nTekan enter untuk melanjutkan...')\n",
        "\n",
        "        else:\n",
        "            prosesUbahMember(indexAdmin, indexMember)\n",
        "\n",
        "# ==============================================================================\n",
        "\n",
        "# proses pengubahan data member\n",
        "def prosesUbahMember(indexAdmin, indexMember):\n",
        "    print('\\n\\t-- Data ditemukan --\\n')\n",
        "    tampilkanMember(indexMember)\n",
        "    pilih = input('\\nApakah Data Tersebut Akan Diubah (y/n) : ')\n",
        "\n",
        "    if pilih == 'y':\n",
        "        print('\\n\\n-- Konfirmasi Admin --')\n",
        "        usern = input('\\nUsername : ')\n",
        "        passw = getpass(prompt='Password : ')\n",
        "        cekAdmin = logIn(usern, passw)\n",
        "\n",
        "        if cekAdmin == indexAdmin:\n",
        "            print('\\n-- Ubah Data --\\n')\n",
        "            member[indexMember]['nama']     = input('Nama     : ')\n",
        "            member[indexMember]['alamat']   = input('Alamat   : ')\n",
        "            clrscrPesan('\\nUbah Data Admin Sukses' +\n",
        "                        '\\nTekan enter untuk melanjutkan...')\n",
        "\n",
        "        else:\n",
        "            clrscrPesan('\\nKonfirmasi Admin Gagal' +\n",
        "                        '\\nTekan enter untuk melanjutkan...')\n",
        "\n",
        "    else:\n",
        "        clrscrPesan('\\nUbah Data Dibatalkan' +\n",
        "                    '\\nTekan enter untuk melanjutkan...')"
      ]
    },
    {
      "cell_type": "markdown",
      "metadata": {
        "id": "jgqsD6pYlHRi"
      },
      "source": [
        "## Delete Data"
      ]
    },
    {
      "cell_type": "markdown",
      "metadata": {
        "id": "LihHIPMdAL6b"
      },
      "source": [
        "### Hapus Data Admin"
      ]
    },
    {
      "cell_type": "code",
      "execution_count": null,
      "metadata": {
        "id": "oJEiKH0oANZn"
      },
      "outputs": [],
      "source": [
        "# hapus data admin\n",
        "def hapusAdmin():\n",
        "    clrscrPesan('\\n--- Admin Tidak Bisa Dihapus ---' +\n",
        "                    '\\nTekan enter untuk melanjutkan...')"
      ]
    },
    {
      "cell_type": "markdown",
      "metadata": {
        "id": "1f92849bM8Tm"
      },
      "source": [
        "### Hapus Data Member"
      ]
    },
    {
      "cell_type": "code",
      "execution_count": null,
      "metadata": {
        "id": "eZugKq9tM-z6"
      },
      "outputs": [],
      "source": [
        "# hapus data member\n",
        "def hapusMember(indexAdmin):\n",
        "    clrscr()\n",
        "    print('-- Silahkan Masukkan Data Member yang Akan Dihapus --')\n",
        "    print('-------------- (\"exit\" untuk keluar) ----------------\\n')\n",
        "    noId = input('\\nID Member : ')\n",
        "\n",
        "    if noId != 'exit':\n",
        "        indexMember = cekData(noId, member, 'noId', 'in')\n",
        "\n",
        "        if indexMember == -1:\n",
        "            clrscrPesan('\\nID Member Tidak Ditemukan' +\n",
        "                        '\\nTekan enter untuk melanjutkan...')\n",
        "\n",
        "        else:\n",
        "            prosesHapusMember(indexAdmin, indexMember)\n",
        "\n",
        "# ==============================================================================\n",
        "\n",
        "# proses penghapusan data member\n",
        "def prosesHapusMember(indexAdmin, indexMember):\n",
        "    print('\\n\\t-- Data Ditemukan --\\n')\n",
        "    tampilkanMember(indexMember)\n",
        "    pilih = input('\\nApakah Data Tersebut Akan Dihapus (y/n) : ')\n",
        "\n",
        "    if pilih == 'y':\n",
        "        print('\\n\\n-- Konfirmasi Admin --')\n",
        "        usern = input('\\nUsername : ')\n",
        "        passw = getpass(prompt='Password : ')\n",
        "        cekAdmin = logIn(usern, passw)\n",
        "\n",
        "        if cekAdmin == indexAdmin:\n",
        "            del member[indexMember]\n",
        "            clrscrPesan('\\nHapus Data Member Sukses' +\n",
        "                        '\\nTekan enter untuk melanjutkan...')\n",
        "\n",
        "        else:\n",
        "            clrscrPesan('\\nKonfirmasi Admin Gagal' +\n",
        "                        '\\nTekan enter untuk melanjutkan...')\n",
        "\n",
        "    else:\n",
        "        clrscrPesan('\\nHapus Data Member Dibatalkan' +\n",
        "                    '\\nTekan enter untuk melanjutkan...')"
      ]
    },
    {
      "cell_type": "markdown",
      "metadata": {
        "id": "SYzvY-NzNJ1T"
      },
      "source": [
        "### Hapus Data Transaksi"
      ]
    },
    {
      "cell_type": "code",
      "execution_count": null,
      "metadata": {
        "id": "vUYprkcyNMqW"
      },
      "outputs": [],
      "source": [
        "# hapus data transaksi\n",
        "def hapusTransaksi(indexAdmin):\n",
        "    clrscr()\n",
        "    print('-- Data Transaksi Hanya Bisa Dihapus Perbulan dan Tahun --')\n",
        "    print('----------------- (\"exit\" untuk keluar) ------------------\\n')\n",
        "    tahun = input('\\nMasukkan Tahun (YYYY) : ')\n",
        "\n",
        "    if tahun != 'exit':\n",
        "        bulan = input('Masukkan Bulan (mm)   : ')\n",
        "        indexTransaksi = ambilTransaksiBy(tahun, bulan)\n",
        "\n",
        "        if len(indexTransaksi) == 0:\n",
        "            clrscrPesan('\\nTransaksi Tidak Ditemukan' +\n",
        "                        '\\nTekan enter untuk melanjutkan...')\n",
        "\n",
        "        else:\n",
        "            status = cekStatusTransaksi(indexTransaksi)\n",
        "\n",
        "            if status:\n",
        "                prosesHapusTransaksi(indexAdmin, indexTransaksi,\n",
        "                                     tahun, bulan)\n",
        "\n",
        "            else:\n",
        "                clrscrPesan('\\nHapus Transaksi Gagal' +\n",
        "                            '\\nAda Komik yang Masih Dipinjam' +\n",
        "                            '\\nTekan enter untuk melanjutkan...')\n",
        "\n",
        "# ==============================================================================\n",
        "\n",
        "# cari data transaksi per bulan dan tahun\n",
        "def ambilTransaksiBy(tahun, bulan):\n",
        "    list_index = []\n",
        "    for i in range(len(data_transaksi)):\n",
        "        dataTahun = data_transaksi[i]['idTransaksi'][:4]\n",
        "        if tahun == dataTahun:\n",
        "            dataBulan = data_transaksi[i]['idTransaksi'][4:6]\n",
        "            if bulan == dataBulan:\n",
        "                list_index.append(i)\n",
        "\n",
        "    list_index.reverse()\n",
        "    return list_index\n",
        "\n",
        "# ==============================================================================\n",
        "\n",
        "# cek status di data transaksi yang akan dihapus\n",
        "def cekStatusTransaksi(indexTransaksi):\n",
        "    status = False\n",
        "    for i in indexTransaksi:\n",
        "        if data_transaksi[i]['status']:\n",
        "            status = True\n",
        "        else:\n",
        "            status = False\n",
        "            break\n",
        "\n",
        "    return status\n",
        "\n",
        "# ==============================================================================\n",
        "\n",
        "# proses penghapusan data transaksi\n",
        "def prosesHapusTransaksi(indexAdmin, indexTransaksi, tahun, bulan):\n",
        "    print('\\nData Transaksi di:')\n",
        "    print('- Bulan:', listBulan[int(bulan)-1])\n",
        "    print('- Tahun:', tahun)\n",
        "    print('\\n\\t-- Data Transaksi Ditemukan --')\n",
        "\n",
        "    for i in indexTransaksi:\n",
        "        print('\\n', str(i+1), end='')\n",
        "        tampilkanTransaksi(i)\n",
        "\n",
        "    pilih = input('\\nApakah Data Tersebut Akan Dihapus (y/n) : ')\n",
        "\n",
        "    if pilih == 'y':\n",
        "        print('\\n\\n-- Konfirmasi Admin --')\n",
        "        usern = input('\\nUsername : ')\n",
        "        passw = getpass(prompt='Password : ')\n",
        "        cekAdmin = logIn(usern, passw)\n",
        "\n",
        "        if cekAdmin == indexAdmin:\n",
        "            for i in indexTransaksi:\n",
        "                del data_transaksi[i]\n",
        "            clrscrPesan('\\nHapus Transaksi Sukses' +\n",
        "                        '\\nTekan enter untuk melanjutkan...')\n",
        "\n",
        "        else:\n",
        "            clrscrPesan('\\nKonfirmasi Admin Gagal' +\n",
        "                        '\\nTekan enter untuk melanjutkan...')\n",
        "\n",
        "    else:\n",
        "        clrscrPesan('\\nHapus Data Transaksi Dibatalkan' +\n",
        "                    '\\nTekan enter untuk melanjutkan...')\n"
      ]
    },
    {
      "cell_type": "markdown",
      "metadata": {
        "id": "9f5qX_RKBWc5"
      },
      "source": [
        "# Program Utama"
      ]
    },
    {
      "cell_type": "code",
      "execution_count": null,
      "metadata": {
        "colab": {
          "background_save": true,
          "base_uri": "https://localhost:8080/"
        },
        "id": "4tlFRAnzBYvc",
        "outputId": "36982dfb-29b2-42ce-a97a-0026eb8826c9"
      },
      "outputs": [
        {
          "name": "stdout",
          "output_type": "stream",
          "text": [
            "-- WELKAM BEK, ahok --\n",
            "\n",
            "[1] Kelola Transaksi Komik\n",
            "[2] Kelola Data Admin\n",
            "[3] Kelola Data Member\n",
            "[4] Log Out\n"
          ]
        }
      ],
      "source": [
        "if __name__ == \"__main__\":\n",
        "    main()"
      ]
    }
  ],
  "metadata": {
    "colab": {
      "provenance": [],
      "authorship_tag": "ABX9TyOzmjUGwGUV0wpDM4ajVbO7",
      "include_colab_link": true
    },
    "kernelspec": {
      "display_name": "Python 3",
      "name": "python3"
    },
    "language_info": {
      "name": "python"
    }
  },
  "nbformat": 4,
  "nbformat_minor": 0
}